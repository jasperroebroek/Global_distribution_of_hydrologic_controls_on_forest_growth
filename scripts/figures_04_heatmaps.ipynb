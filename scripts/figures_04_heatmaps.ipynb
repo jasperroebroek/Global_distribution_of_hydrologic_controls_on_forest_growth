{
 "cells": [
  {
   "cell_type": "code",
   "execution_count": 1,
   "metadata": {
    "pycharm": {
     "is_executing": false
    }
   },
   "outputs": [],
   "source": [
    "import thesis\n",
    "import geomappy as mp\n",
    "from geomappy.colors import cmap_2d, plot_colors, add_colorbar\n",
    "import pandas as pd\n",
    "import seaborn as sns\n",
    "import glob\n",
    "import matplotlib.pyplot as plt\n",
    "from matplotlib.colors import LinearSegmentedColormap, to_rgba_array, to_hex, ListedColormap, \\\n",
    "    LogNorm, BoundaryNorm\n",
    "from matplotlib.cm import ScalarMappable\n",
    "from matplotlib.ticker import ScalarFormatter\n",
    "import numpy as np"
   ]
  },
  {
   "cell_type": "markdown",
   "metadata": {},
   "source": [
    "### Preparation"
   ]
  },
  {
   "cell_type": "markdown",
   "metadata": {},
   "source": [
    "#### Loading dataframe from memory"
   ]
  },
  {
   "cell_type": "code",
   "execution_count": 2,
   "metadata": {
    "pycharm": {
     "is_executing": false
    }
   },
   "outputs": [],
   "source": [
    "files = glob.glob(\"data/df/*feather\")"
   ]
  },
  {
   "cell_type": "code",
   "execution_count": 3,
   "metadata": {
    "pycharm": {
     "is_executing": false
    }
   },
   "outputs": [],
   "source": [
    "df_list = [pd.read_feather(x) for x in files]\n",
    "df = pd.concat(df_list)"
   ]
  },
  {
   "cell_type": "code",
   "execution_count": 4,
   "metadata": {
    "pycharm": {
     "is_executing": false
    }
   },
   "outputs": [
    {
     "data": {
      "text/html": [
       "<div>\n",
       "<style scoped>\n",
       "    .dataframe tbody tr th:only-of-type {\n",
       "        vertical-align: middle;\n",
       "    }\n",
       "\n",
       "    .dataframe tbody tr th {\n",
       "        vertical-align: top;\n",
       "    }\n",
       "\n",
       "    .dataframe thead th {\n",
       "        text-align: right;\n",
       "    }\n",
       "</style>\n",
       "<table border=\"1\" class=\"dataframe\">\n",
       "  <thead>\n",
       "    <tr style=\"text-align: right;\">\n",
       "      <th></th>\n",
       "      <th>index</th>\n",
       "      <th>wtd</th>\n",
       "      <th>wtd_std</th>\n",
       "      <th>p_pet</th>\n",
       "      <th>climate</th>\n",
       "      <th>landscape</th>\n",
       "      <th>corr_wtd_fapar</th>\n",
       "      <th>corr_p_pet_fapar</th>\n",
       "      <th>corr_p_pet_wtd</th>\n",
       "      <th>classes</th>\n",
       "      <th>th</th>\n",
       "      <th>fapar</th>\n",
       "    </tr>\n",
       "  </thead>\n",
       "  <tbody>\n",
       "    <tr>\n",
       "      <th>0</th>\n",
       "      <td>38368</td>\n",
       "      <td>-20.490117</td>\n",
       "      <td>29.721915</td>\n",
       "      <td>0.379195</td>\n",
       "      <td>29.0</td>\n",
       "      <td>5.0</td>\n",
       "      <td>0.200130</td>\n",
       "      <td>0.800072</td>\n",
       "      <td>-0.192847</td>\n",
       "      <td>7.0</td>\n",
       "      <td>0.17</td>\n",
       "      <td>5.549864</td>\n",
       "    </tr>\n",
       "    <tr>\n",
       "      <th>1</th>\n",
       "      <td>38584</td>\n",
       "      <td>-14.522317</td>\n",
       "      <td>16.271340</td>\n",
       "      <td>0.412502</td>\n",
       "      <td>29.0</td>\n",
       "      <td>4.0</td>\n",
       "      <td>0.285191</td>\n",
       "      <td>0.720813</td>\n",
       "      <td>0.295907</td>\n",
       "      <td>8.0</td>\n",
       "      <td>11.39</td>\n",
       "      <td>10.648549</td>\n",
       "    </tr>\n",
       "    <tr>\n",
       "      <th>2</th>\n",
       "      <td>38585</td>\n",
       "      <td>-15.395438</td>\n",
       "      <td>17.036641</td>\n",
       "      <td>0.401628</td>\n",
       "      <td>29.0</td>\n",
       "      <td>4.0</td>\n",
       "      <td>0.179361</td>\n",
       "      <td>0.680996</td>\n",
       "      <td>0.244430</td>\n",
       "      <td>7.0</td>\n",
       "      <td>7.63</td>\n",
       "      <td>9.669016</td>\n",
       "    </tr>\n",
       "    <tr>\n",
       "      <th>3</th>\n",
       "      <td>38799</td>\n",
       "      <td>-7.435052</td>\n",
       "      <td>16.519695</td>\n",
       "      <td>0.434982</td>\n",
       "      <td>29.0</td>\n",
       "      <td>4.0</td>\n",
       "      <td>0.381691</td>\n",
       "      <td>0.676437</td>\n",
       "      <td>0.323457</td>\n",
       "      <td>8.0</td>\n",
       "      <td>5.26</td>\n",
       "      <td>10.106983</td>\n",
       "    </tr>\n",
       "    <tr>\n",
       "      <th>4</th>\n",
       "      <td>22947</td>\n",
       "      <td>-25.158843</td>\n",
       "      <td>28.653745</td>\n",
       "      <td>0.418744</td>\n",
       "      <td>29.0</td>\n",
       "      <td>4.0</td>\n",
       "      <td>0.018269</td>\n",
       "      <td>0.046165</td>\n",
       "      <td>0.009609</td>\n",
       "      <td>4.0</td>\n",
       "      <td>6.31</td>\n",
       "      <td>12.065676</td>\n",
       "    </tr>\n",
       "    <tr>\n",
       "      <th>5</th>\n",
       "      <td>22948</td>\n",
       "      <td>-23.835543</td>\n",
       "      <td>44.257091</td>\n",
       "      <td>0.431558</td>\n",
       "      <td>29.0</td>\n",
       "      <td>6.0</td>\n",
       "      <td>-0.188339</td>\n",
       "      <td>-0.168220</td>\n",
       "      <td>0.005543</td>\n",
       "      <td>4.0</td>\n",
       "      <td>4.20</td>\n",
       "      <td>10.851288</td>\n",
       "    </tr>\n",
       "    <tr>\n",
       "      <th>6</th>\n",
       "      <td>22949</td>\n",
       "      <td>-37.474326</td>\n",
       "      <td>49.909164</td>\n",
       "      <td>0.444642</td>\n",
       "      <td>29.0</td>\n",
       "      <td>6.0</td>\n",
       "      <td>-0.079549</td>\n",
       "      <td>-0.193000</td>\n",
       "      <td>0.026349</td>\n",
       "      <td>1.0</td>\n",
       "      <td>6.16</td>\n",
       "      <td>9.813579</td>\n",
       "    </tr>\n",
       "    <tr>\n",
       "      <th>7</th>\n",
       "      <td>22950</td>\n",
       "      <td>-33.711145</td>\n",
       "      <td>49.400188</td>\n",
       "      <td>0.449378</td>\n",
       "      <td>29.0</td>\n",
       "      <td>6.0</td>\n",
       "      <td>0.070523</td>\n",
       "      <td>0.039825</td>\n",
       "      <td>-0.029649</td>\n",
       "      <td>4.0</td>\n",
       "      <td>4.62</td>\n",
       "      <td>9.065878</td>\n",
       "    </tr>\n",
       "    <tr>\n",
       "      <th>8</th>\n",
       "      <td>23355</td>\n",
       "      <td>-2.037080</td>\n",
       "      <td>7.568072</td>\n",
       "      <td>0.310406</td>\n",
       "      <td>29.0</td>\n",
       "      <td>1.0</td>\n",
       "      <td>0.085795</td>\n",
       "      <td>0.585859</td>\n",
       "      <td>-0.201912</td>\n",
       "      <td>7.0</td>\n",
       "      <td>0.97</td>\n",
       "      <td>7.403647</td>\n",
       "    </tr>\n",
       "    <tr>\n",
       "      <th>9</th>\n",
       "      <td>23356</td>\n",
       "      <td>-7.345334</td>\n",
       "      <td>14.462574</td>\n",
       "      <td>0.306081</td>\n",
       "      <td>29.0</td>\n",
       "      <td>1.0</td>\n",
       "      <td>0.632794</td>\n",
       "      <td>0.759110</td>\n",
       "      <td>-0.209917</td>\n",
       "      <td>8.0</td>\n",
       "      <td>0.32</td>\n",
       "      <td>7.397507</td>\n",
       "    </tr>\n",
       "  </tbody>\n",
       "</table>\n",
       "</div>"
      ],
      "text/plain": [
       "   index        wtd    wtd_std     p_pet  climate  landscape  corr_wtd_fapar  \\\n",
       "0  38368 -20.490117  29.721915  0.379195     29.0        5.0        0.200130   \n",
       "1  38584 -14.522317  16.271340  0.412502     29.0        4.0        0.285191   \n",
       "2  38585 -15.395438  17.036641  0.401628     29.0        4.0        0.179361   \n",
       "3  38799  -7.435052  16.519695  0.434982     29.0        4.0        0.381691   \n",
       "4  22947 -25.158843  28.653745  0.418744     29.0        4.0        0.018269   \n",
       "5  22948 -23.835543  44.257091  0.431558     29.0        6.0       -0.188339   \n",
       "6  22949 -37.474326  49.909164  0.444642     29.0        6.0       -0.079549   \n",
       "7  22950 -33.711145  49.400188  0.449378     29.0        6.0        0.070523   \n",
       "8  23355  -2.037080   7.568072  0.310406     29.0        1.0        0.085795   \n",
       "9  23356  -7.345334  14.462574  0.306081     29.0        1.0        0.632794   \n",
       "\n",
       "   corr_p_pet_fapar  corr_p_pet_wtd  classes     th      fapar  \n",
       "0          0.800072       -0.192847      7.0   0.17   5.549864  \n",
       "1          0.720813        0.295907      8.0  11.39  10.648549  \n",
       "2          0.680996        0.244430      7.0   7.63   9.669016  \n",
       "3          0.676437        0.323457      8.0   5.26  10.106983  \n",
       "4          0.046165        0.009609      4.0   6.31  12.065676  \n",
       "5         -0.168220        0.005543      4.0   4.20  10.851288  \n",
       "6         -0.193000        0.026349      1.0   6.16   9.813579  \n",
       "7          0.039825       -0.029649      4.0   4.62   9.065878  \n",
       "8          0.585859       -0.201912      7.0   0.97   7.403647  \n",
       "9          0.759110       -0.209917      8.0   0.32   7.397507  "
      ]
     },
     "execution_count": 4,
     "metadata": {},
     "output_type": "execute_result"
    }
   ],
   "source": [
    "df.head(10)"
   ]
  },
  {
   "cell_type": "markdown",
   "metadata": {},
   "source": [
    "#### Legends"
   ]
  },
  {
   "cell_type": "code",
   "execution_count": 5,
   "metadata": {
    "pycharm": {
     "is_executing": false
    }
   },
   "outputs": [],
   "source": [
    "# Landscape\n",
    "landscape_classes = [\"NAN\", \"Open water and wetland\", \"Lowland\", \"Undulating terrain\", \"Hilly\",\n",
    "                     \"Low mountainous\", \"Mountainous\", \"High mountainous\"]"
   ]
  },
  {
   "cell_type": "code",
   "execution_count": 6,
   "metadata": {
    "pycharm": {
     "is_executing": false
    }
   },
   "outputs": [],
   "source": [
    "# Climate\n",
    "with open(\"/Volumes/Elements SE/Thesis/Data/climate/koppen_legend.txt\") as f:\n",
    "    data = f.read().split(\"\\n\")\n",
    "\n",
    "clim_legend = {np.nan:[np.nan]*3,\n",
    "               0 : [np.nan]*3}\n",
    "clims = []\n",
    "major_clims = {np.nan:[np.nan]*3,\n",
    "               0 : [np.nan]*3}   \n",
    "\n",
    "for entry in data[3:33]:\n",
    "    key,string = entry.split(\":\")\n",
    "    key = int(key)\n",
    "    string = string[:string.find(\"[\")].strip()\n",
    "    clim_class = string[:string.find(\" \")].strip()\n",
    "    clims.append(clim_class)\n",
    "    clim_descr = string[string.find(\" \"):].strip()\n",
    "    major = ord(clim_class[0].lower()) - 96\n",
    "    if major not in major_clims:\n",
    "        major_clims[major] = [key]\n",
    "    else:\n",
    "        major_clims[major] += [key]\n",
    "    clim_legend[key] = (major,clim_class,clim_descr)\n",
    "    \n",
    "clims = sorted(clims)"
   ]
  },
  {
   "cell_type": "code",
   "execution_count": 7,
   "metadata": {
    "pycharm": {
     "is_executing": false
    }
   },
   "outputs": [
    {
     "data": {
      "image/png": "[encoded data removed]",
      "text/plain": [
       "<Figure size 720x72 with 1 Axes>"
      ]
     },
     "metadata": {},
     "output_type": "display_data"
    }
   ],
   "source": [
    "# Colors\n",
    "cmap = cmap_2d((3,3), diverging = False, alpha = 0.5, diverging_alpha = 0.25)\n",
    "cmap[1,1,:] = (0.9,0.9,0.9)\n",
    "cmap = cmap.reshape((9,-1))\n",
    "plot_colors(cmap)"
   ]
  },
  {
   "cell_type": "markdown",
   "metadata": {},
   "source": [
    "#### Adding legend data into dataframe"
   ]
  },
  {
   "cell_type": "code",
   "execution_count": 8,
   "metadata": {
    "pycharm": {
     "is_executing": false
    }
   },
   "outputs": [],
   "source": [
    "df['climate_class'] = df.climate.apply(lambda x: clim_legend[int(x)][1])\n",
    "df['climate_class_major'] = df.climate.apply(lambda x: clim_legend[int(x)][0])\n",
    "df['landscape_class'] = df.landscape.apply(lambda x: landscape_classes[int(x)])\n",
    "df['landscape_class'] = pd.Categorical(df.landscape_class, categories = landscape_classes[1:], ordered = True)\n",
    "df.loc[:,\"classes_centered\"] = df.classes\n",
    "df.loc[df.classes_centered == 4, \"classes_centered\"] = np.nan\n",
    "df.dropna(inplace=True)"
   ]
  },
  {
   "cell_type": "markdown",
   "metadata": {},
   "source": [
    "#### Heatmaps"
   ]
  },
  {
   "cell_type": "code",
   "execution_count": 9,
   "metadata": {},
   "outputs": [],
   "source": [
    "cmap = cmap_2d((3, 3), alpha=0.5, diverging_alpha=0.25)\n",
    "cmap[1, 1, :] = (0.9, 0.9, 0.9)\n",
    "cmap = cmap.reshape((9, 3))\n",
    "cmap = ListedColormap(cmap)\n",
    "norm = BoundaryNorm(np.arange(-0.5,9,step = 1), ncolors=9)"
   ]
  },
  {
   "cell_type": "code",
   "execution_count": 10,
   "metadata": {
    "pycharm": {
     "is_executing": false
    }
   },
   "outputs": [],
   "source": [
    "label_list = [\n",
    "    \"Oxygen stress\",\n",
    "    \"Composite\",\n",
    "    \"Convergence dominated\",\n",
    "    \"Rooting space limited\",\n",
    "    \"Neutral\",\n",
    "    \"Convergence driven\",\n",
    "    \"Rooting space driven/\\nPrecipitation driven\",\n",
    "    \"Precipitation driven\",\n",
    "    \"Water limited\"\n",
    "]"
   ]
  },
  {
   "cell_type": "code",
   "execution_count": 11,
   "metadata": {
    "pycharm": {
     "is_executing": false
    }
   },
   "outputs": [
    {
     "data": {
      "image/png": "[encoded data removed]",
      "text/plain": [
       "<Figure size 1440x576 with 2 Axes>"
      ]
     },
     "metadata": {
      "needs_background": "light"
     },
     "output_type": "display_data"
    }
   ],
   "source": [
    "f, ax = plt.subplots(1, figsize = (20,8))\n",
    "x = df.groupby(['landscape_class','climate_class'])['classes_centered'].agg(lambda x: thesis.mode(x)).unstack()\n",
    "im = plt.imshow(x, cmap=cmap, norm=norm)\n",
    "cbar = add_colorbar(im, aspect=15, pad_fraction=0.8)\n",
    "cbar.set_ticks((0,1,2,3,4,5,6,7,8,9))\n",
    "cbar.ax.set_yticklabels(label_list)\n",
    "\n",
    "ax.set_xticks(list(range(29)))\n",
    "ax.set_xticklabels(list(x.columns))\n",
    "ax.set_yticks(list(range(7)))\n",
    "ax.set_yticklabels(landscape_classes[1:])\n",
    "\n",
    "plt.tight_layout()\n",
    "plt.savefig(\"figures/si_heatmap_classes.png\", bbox_inches='tight', pad_inches=0, dpi=300)\n",
    "plt.show()"
   ]
  },
  {
   "cell_type": "code",
   "execution_count": 12,
   "metadata": {
    "pycharm": {
     "is_executing": false
    }
   },
   "outputs": [
    {
     "name": "stderr",
     "output_type": "stream",
     "text": [
      "/Users/jroebroek/opt/anaconda3/envs/thesis/lib/python3.6/site-packages/matplotlib/colors.py:1171: RuntimeWarning: invalid value encountered in less_equal\n",
      "  mask |= resdat <= 0\n"
     ]
    },
    {
     "data": {
      "image/png": "[encoded data removed]",
      "text/plain": [
       "<Figure size 1440x576 with 2 Axes>"
      ]
     },
     "metadata": {
      "needs_background": "light"
     },
     "output_type": "display_data"
    }
   ],
   "source": [
    "f, ax = plt.subplots(1, figsize = (20,8))\n",
    "x = df.groupby(['landscape_class','climate_class'])['wtd'].mean().unstack()*-1\n",
    "im = plt.imshow(x, cmap = \"Blues_r\", norm=LogNorm())\n",
    "cbar = add_colorbar(im, aspect=15, pad_fraction=0.8, format=ScalarFormatter())\n",
    "cbar.ax.set_title(\"WTD [-m]\")\n",
    "\n",
    "ax.set_xticks(list(range(29)))\n",
    "ax.set_xticklabels(list(x.columns))\n",
    "ax.set_yticks(list(range(7)))\n",
    "ax.set_yticklabels(landscape_classes[1:])\n",
    "\n",
    "plt.savefig(\"figures/si_heatmap_wtd.png\", bbox_inches='tight', pad_inches=0, dpi=300)\n",
    "plt.show()"
   ]
  },
  {
   "cell_type": "code",
   "execution_count": 13,
   "metadata": {
    "pycharm": {
     "is_executing": false
    }
   },
   "outputs": [
    {
     "data": {
      "image/png": "[encoded data removed]",
      "text/plain": [
       "<Figure size 1440x576 with 2 Axes>"
      ]
     },
     "metadata": {
      "needs_background": "light"
     },
     "output_type": "display_data"
    }
   ],
   "source": [
    "f, ax = plt.subplots(1, figsize = (20,8))\n",
    "x = df.groupby(['landscape_class','climate_class'])['fapar'].mean().unstack()\n",
    "im = plt.imshow(x, cmap = \"Greens\")\n",
    "cbar = add_colorbar(im, aspect=15, pad_fraction=0.8)\n",
    "cbar.ax.set_title(\"fAPAR [%]\")\n",
    "\n",
    "ax.set_xticks(list(range(29)))\n",
    "ax.set_xticklabels(list(x.columns))\n",
    "ax.set_yticks(list(range(7)))\n",
    "ax.set_yticklabels(labels=landscape_classes[1:])\n",
    "\n",
    "plt.savefig(\"figures/si_heatmap_fapar.png\", bbox_inches='tight', pad_inches=0, dpi=300)\n",
    "plt.show()"
   ]
  },
  {
   "cell_type": "code",
   "execution_count": 14,
   "metadata": {
    "pycharm": {
     "is_executing": false
    }
   },
   "outputs": [],
   "source": [
    "choice = ['BWh', 'Dfa', 'Cfa', 'Af']"
   ]
  },
  {
   "cell_type": "code",
   "execution_count": 15,
   "metadata": {
    "pycharm": {
     "is_executing": false
    }
   },
   "outputs": [
    {
     "data": {
      "image/png": "[encoded data removed]",
      "text/plain": [
       "<Figure size 1296x432 with 6 Axes>"
      ]
     },
     "metadata": {
      "needs_background": "light"
     },
     "output_type": "display_data"
    }
   ],
   "source": [
    "f, ax = plt.subplots(1, 3, figsize = (18,6))\n",
    "fontsize = 14\n",
    "\n",
    "# FAPAR\n",
    "im = ax[0].imshow(df.groupby(['landscape_class','climate_class'])['fapar'].mean().unstack().loc[:,choice], \n",
    "           cmap = \"Greens\")\n",
    "cbar = add_colorbar(im, ax=ax[0], aspect=12, pad_fraction=0.8)\n",
    "\n",
    "cbar.ax.tick_params(labelsize=fontsize)\n",
    "cbar.ax.set_title(\"fAPAR [%]\")\n",
    "\n",
    "ax[0].set_yticks(list(range(7)))\n",
    "ax[0].set_yticklabels(landscape_classes[1:], fontsize = fontsize)\n",
    "ax[0].set_xticks(list(range(len(choice))))\n",
    "ax[0].set_xticklabels(choice, fontsize = fontsize)\n",
    "\n",
    "ax[0].text(0.5,1.04, 'a', transform=ax[0].transAxes, size=14)\n",
    "\n",
    "# WTD\n",
    "im = ax[1].imshow(df.groupby(['landscape_class','climate_class'])['wtd'].mean().unstack().loc[:,choice]*-1, \n",
    "                  cmap=\"Blues_r\", norm=LogNorm())\n",
    "\n",
    "ax[1].set_xticks(list(range(len(choice))))\n",
    "ax[1].set_xticklabels(choice, fontsize = fontsize)\n",
    "ax[1].set_yticks(())\n",
    "\n",
    "cbar = add_colorbar(im, ax=ax[1], format=ScalarFormatter(), aspect=12, pad_fraction=0.8)\n",
    "cbar.ax.tick_params(labelsize=fontsize)\n",
    "cbar.ax.set_title(\"WTD [-m]\")\n",
    "\n",
    "ax[1].text(0.5,1.04, 'b', transform=ax[1].transAxes, size=14)\n",
    "\n",
    "# CLASSES\n",
    "im = ax[2].imshow(df.groupby(['landscape_class','climate_class'])['classes_centered'].agg(lambda x: thesis.mode(x)).unstack().loc[:,choice], \n",
    "           cmap=cmap, norm=norm)\n",
    "\n",
    "cbar = add_colorbar(im, ax=ax[2], aspect=12, pad_fraction=0.8)\n",
    "cbar.set_ticks((0,1,2,3,4,5,6,7,8,9))\n",
    "cbar.ax.set_yticklabels(label_list)\n",
    "cbar.ax.tick_params(labelsize=fontsize)\n",
    "\n",
    "ax[2].set_yticks(())\n",
    "ax[2].set_xticks(list(range(len(choice))))\n",
    "ax[2].set_xticklabels(choice, fontsize = fontsize)\n",
    "\n",
    "ax[2].text(0.5,1.04, 'c', transform=ax[2].transAxes, size=14)\n",
    "\n",
    "f.tight_layout()\n",
    "\n",
    "plt.savefig(\"figures/heatmaps.png\", bbox_inches='tight', pad_inches=0, dpi=300)\n",
    "plt.show()"
   ]
  },
  {
   "cell_type": "code",
   "execution_count": null,
   "metadata": {},
   "outputs": [],
   "source": []
  }
 ],
 "metadata": {
  "kernelspec": {
   "display_name": "Python 3",
   "language": "python",
   "name": "python3"
  },
  "language_info": {
   "codemirror_mode": {
    "name": "ipython",
    "version": 3
   },
   "file_extension": ".py",
   "mimetype": "text/x-python",
   "name": "python",
   "nbconvert_exporter": "python",
   "pygments_lexer": "ipython3",
   "version": "3.6.10"
  },
  "pycharm": {
   "stem_cell": {
    "cell_type": "raw",
    "metadata": {
     "collapsed": false
    },
    "source": []
   }
  }
 },
 "nbformat": 4,
 "nbformat_minor": 4
}
